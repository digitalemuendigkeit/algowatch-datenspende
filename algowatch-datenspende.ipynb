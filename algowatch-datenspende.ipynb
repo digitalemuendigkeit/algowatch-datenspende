{
 "cells": [
  {
   "cell_type": "code",
   "execution_count": 1,
   "metadata": {},
   "outputs": [],
   "source": [
    "#import packages\n",
    "import json\n",
    "import os.path\n",
    "import pandas as pd\n",
    "import numpy as np"
   ]
  },
  {
   "cell_type": "code",
   "execution_count": 2,
   "metadata": {},
   "outputs": [],
   "source": [
    "# create system specific path to json file\n",
    "path = os.path.join(\n",
    "    'data', \n",
    "    'datenspende_btw17_public_data_2017-09-29.json'\n",
    ")\n",
    "\n",
    "# read json file\n",
    "with open(path, 'r') as json_file:\n",
    "    json_data = json.load(json_file)"
   ]
  },
  {
   "cell_type": "code",
   "execution_count": 3,
   "metadata": {
    "scrolled": true
   },
   "outputs": [
    {
     "name": "stdout",
     "output_type": "stream",
     "text": [
      "         geo_location                keyword language  login_status plugin_id  \\\n",
      "0  DE 76131 Karlsruhe  Katrin Göring-Eckardt       de          True       xxx   \n",
      "1  DE 76131 Karlsruhe      Christian Lindner       de          True       xxx   \n",
      "2  DE 76131 Karlsruhe                    FDP       de          True       xxx   \n",
      "3  DE 76131 Karlsruhe                    AfD       de          True       xxx   \n",
      "4  DE 76131 Karlsruhe      Alexander Gauland       de          True       xxx   \n",
      "\n",
      "  plugin_version                       result_hash       search_date  \\\n",
      "0   Chrome 1.2.1  31732e797d379eaf7d5322245f47a1fb  2017-09-29 10:01   \n",
      "1   Chrome 1.2.1  61783380a7393160e15e2c4217cbd8ed  2017-09-29 10:01   \n",
      "2   Chrome 1.2.1  6c22ed05abe3b48e0044d883a74c48ba  2017-09-29 10:01   \n",
      "3   Chrome 1.2.1  9cbd3c58754ba8bf066cf72a4d0cc5b3  2017-09-29 10:01   \n",
      "4   Chrome 1.2.1  9367cf01fb20eeffddc7366ea3e1fc16  2017-09-29 10:01   \n",
      "\n",
      "  search_type  person_id  \n",
      "0        news          1  \n",
      "1        news          1  \n",
      "2        news          1  \n",
      "3        news          1  \n",
      "4        news          1  \n"
     ]
    }
   ],
   "source": [
    "# separate result lists from meta data\n",
    "result_lists = json_data[-1] \n",
    "meta_data = json_data[0:(len(json_data)-1)]\n",
    "\n",
    "# create data frame with meta data\n",
    "df = pd.DataFrame(meta_data[0])\n",
    "df['person_id'] = pd.Series(\n",
    "    np.repeat(np.array([1]), df.shape[0], axis=0),\n",
    "    index=df.index\n",
    ")\n",
    "for i in range(1, len(meta_data)-1):\n",
    "    tmp = pd.DataFrame(meta_data[i])\n",
    "    tmp['person_id'] = pd.Series(\n",
    "        np.repeat(np.array([i]), tmp.shape[0], axis=0),\n",
    "        index=tmp.index\n",
    "    )\n",
    "    df = pd.concat([df, tmp])\n",
    "    \n",
    "print(df.head())"
   ]
  },
  {
   "cell_type": "code",
   "execution_count": 4,
   "metadata": {},
   "outputs": [],
   "source": [
    "# filter meta data frame\n",
    "meta_data_df = df[df.search_type == \"news\"]\n",
    "meta_data_df = meta_data_df.reset_index()\n",
    "meta_data_df = meta_data_df.drop(\n",
    "    ['plugin_id', 'index', 'plugin_version'], axis=1\n",
    ")"
   ]
  },
  {
   "cell_type": "code",
   "execution_count": 6,
   "metadata": {},
   "outputs": [
    {
     "name": "stdout",
     "output_type": "stream",
     "text": [
      "1536\n"
     ]
    }
   ],
   "source": [
    "print(len(meta_data))\n",
    "#print(result_lists[])"
   ]
  },
  {
   "cell_type": "code",
   "execution_count": null,
   "metadata": {},
   "outputs": [],
   "source": []
  }
 ],
 "metadata": {
  "jupytext": {
   "formats": "ipynb,py:percent"
  },
  "kernelspec": {
   "display_name": "Python 3",
   "language": "python",
   "name": "python3"
  },
  "language_info": {
   "codemirror_mode": {
    "name": "ipython",
    "version": 3
   },
   "file_extension": ".py",
   "mimetype": "text/x-python",
   "name": "python",
   "nbconvert_exporter": "python",
   "pygments_lexer": "ipython3",
   "version": "3.7.0"
  }
 },
 "nbformat": 4,
 "nbformat_minor": 2
}
